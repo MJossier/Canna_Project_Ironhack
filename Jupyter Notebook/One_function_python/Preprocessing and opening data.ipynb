{
 "cells": [
  {
   "cell_type": "code",
   "execution_count": 1,
   "metadata": {},
   "outputs": [],
   "source": [
    "import pandas as pd\n",
    "\n",
    "def preprocess_data():\n",
    "    # Read Owner_type.csv\n",
    "    Canna_data_owner_type = pd.read_csv(r'C:\\Users\\Tracy\\Downloads\\Canna_project\\Owner_type.csv')\n",
    "    Canna_data_owner_type['%_of_owner'] = round((Canna_data_owner_type['%_TOTAL']*100), 1).astype(str) + '%'\n",
    "    Canna_data_owner_type = Canna_data_owner_type.rename(columns={'CCCLastUpdated': 'Last_Updated_date'})\n",
    "\n",
    "    # Read albs-all.csv\n",
    "    Canna_data_retail = pd.read_csv(r'C:\\Users\\Tracy\\Downloads\\Canna_project\\albs-all.csv')\n",
    "    Canna_data_retail.columns = [col.lower().replace(' ', '_') for col in Canna_data_retail.columns]\n",
    "    \n",
    "    # Drop unnecessary columns\n",
    "    Canna_data_retail = Canna_data_retail.drop(['cccupdatedate'], axis=1)\n",
    "    Canna_data_retail_proper = Canna_data_retail[['application_status', 'license_type', 'application_classification', 'approved_license_type', 'commence_operations_date', 'lic_status', 'license_number', 'business_name', 'establishment_city', 'establishment_zipcode', 'business_address_1', 'business_address_2', 'business_city', 'business_state', 'business_zipcode', 'geocoded_county', 'geocoded_address', 'mailing_address_1', 'mailing_address_2', 'mailing_city', 'mailing_state', 'mailing_zipcode', 'submitted_date', 'first_compliance_review_date', 'lic_fee_payment_submitted_date', 'priority', 'dbe', 'cultivation_environment', 'cultivation_tier', 'application_created_date', 'application_approved_date', 'lic_start_date', 'lic_expiration_date', 'lic_fee_amount', 'zip', 'town', 'county', 'county_lat', 'county_long', 'region', 'establishment_address_2', 'establishment_state', 'latitude', 'longitude']]\n",
    "\n",
    "    # Drop additional columns with too many NaN values\n",
    "    Canna_data_retail_proper = Canna_data_retail_proper.drop(['commence_operations_date', 'business_address_2', 'mailing_address_2', 'establishment_address_2', 'cultivation_environment', 'cultivation_tier', 'priority', 'lic_fee_payment_submitted_date'], axis=1)\n",
    "\n",
    "    # Print NaN values in specific columns\n",
    "    print(f'NaN values in lic_start_date: {Canna_data_retail_proper[\"lic_start_date\"].isna().sum()}')\n",
    "    print(f'NaN values in business_name: {Canna_data_retail_proper[\"business_name\"].isna().sum()}')\n",
    "\n",
    "    # Save to Excel\n",
    "    Canna_data_retail_proper.to_excel('output.xlsx', index=False)\n",
    "\n",
    "    # Read average price files\n",
    "    Average_retail_price = pd.read_csv(r'C:\\Users\\Tracy\\Downloads\\Canna_project\\rqtv-uenj.csv')\n",
    "    Average_retail_price_old = pd.read_csv(r'C:\\Users\\Tracy\\Downloads\\Canna_project\\dt9b-i6ds.csv')\n",
    "\n",
    "    # Print NaN values\n",
    "    print(f'NaN values in Average_retail_price_old: {Average_retail_price_old.isna().sum()}')\n",
    "\n",
    "    # Save to Excel\n",
    "    \n",
    "    Average_retail_price_old.to_excel('output.xlsx', index=False)\n",
    "\n",
    "    # Read other CSV files\n",
    "    Canna_retail_license = pd.read_csv(r'C:\\Users\\Tracy\\Downloads\\Canna_project\\n6qz-us6r.csv')\n",
    "    Product_mary = pd.read_csv(r'C:\\Users\\Tracy\\Downloads\\Canna_project\\dt9b-i6ds.csv')\n",
    "    Product_mary2 = pd.read_csv(r'C:\\Users\\Tracy\\Downloads\\Canna_project\\g5mj-5pg3.csv')\n",
    "    gender_smoker = pd.read_csv(r'C:\\Users\\Tracy\\Downloads\\Canna_project\\hhjg-atjk.csv')\n",
    "    Canna_retail3 = pd.read_csv(r'C:\\Users\\Tracy\\Downloads\\Canna_project\\meau-plav.csv')\n",
    "\n"
   ]
  }
 ],
 "metadata": {
  "kernelspec": {
   "display_name": "base",
   "language": "python",
   "name": "python3"
  },
  "language_info": {
   "codemirror_mode": {
    "name": "ipython",
    "version": 3
   },
   "file_extension": ".py",
   "mimetype": "text/x-python",
   "name": "python",
   "nbconvert_exporter": "python",
   "pygments_lexer": "ipython3",
   "version": "3.11.6"
  }
 },
 "nbformat": 4,
 "nbformat_minor": 2
}
